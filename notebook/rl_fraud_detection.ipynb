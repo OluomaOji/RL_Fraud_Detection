{
 "cells": [
  {
   "cell_type": "markdown",
   "metadata": {},
   "source": [
    "# REINFORMENT LEARNING FRAUD DETECTION"
   ]
  },
  {
   "cell_type": "markdown",
   "metadata": {},
   "source": [
    "#### 1) Import the Necessary Libraries"
   ]
  },
  {
   "cell_type": "code",
   "execution_count": 25,
   "metadata": {},
   "outputs": [],
   "source": [
    "import pandas as pd\n",
    "import numpy as np\n",
    "import matplotlib.pyplot as plt\n",
    "import seaborn as sns\n",
    "%matplotlib inline\n",
    "import warnings\n",
    "warnings.filterwarnings('ignore')"
   ]
  },
  {
   "cell_type": "markdown",
   "metadata": {},
   "source": [
    "#### 2) Load and Display Data"
   ]
  },
  {
   "cell_type": "code",
   "execution_count": 26,
   "metadata": {},
   "outputs": [],
   "source": [
    "df = pd.read_csv('data/Datasets.csv')"
   ]
  },
  {
   "cell_type": "code",
   "execution_count": 27,
   "metadata": {},
   "outputs": [
    {
     "data": {
      "text/html": [
       "<div>\n",
       "<style scoped>\n",
       "    .dataframe tbody tr th:only-of-type {\n",
       "        vertical-align: middle;\n",
       "    }\n",
       "\n",
       "    .dataframe tbody tr th {\n",
       "        vertical-align: top;\n",
       "    }\n",
       "\n",
       "    .dataframe thead th {\n",
       "        text-align: right;\n",
       "    }\n",
       "</style>\n",
       "<table border=\"1\" class=\"dataframe\">\n",
       "  <thead>\n",
       "    <tr style=\"text-align: right;\">\n",
       "      <th></th>\n",
       "      <th>Unnamed: 0</th>\n",
       "      <th>step</th>\n",
       "      <th>type</th>\n",
       "      <th>branch</th>\n",
       "      <th>amount</th>\n",
       "      <th>nameOrig</th>\n",
       "      <th>oldbalanceOrg</th>\n",
       "      <th>newbalanceOrig</th>\n",
       "      <th>nameDest</th>\n",
       "      <th>oldbalanceDest</th>\n",
       "      <th>newbalanceDest</th>\n",
       "      <th>unusuallogin</th>\n",
       "      <th>isFlaggedFraud</th>\n",
       "      <th>Acct type</th>\n",
       "      <th>Date of transaction</th>\n",
       "      <th>Time of day</th>\n",
       "      <th>isFraud</th>\n",
       "    </tr>\n",
       "  </thead>\n",
       "  <tbody>\n",
       "    <tr>\n",
       "      <th>0</th>\n",
       "      <td>0</td>\n",
       "      <td>1</td>\n",
       "      <td>PAYMENT</td>\n",
       "      <td>Indonesia</td>\n",
       "      <td>9839.64</td>\n",
       "      <td>C1231006815</td>\n",
       "      <td>170136.0</td>\n",
       "      <td>160296.36</td>\n",
       "      <td>M1979787155</td>\n",
       "      <td>0.0</td>\n",
       "      <td>0.0</td>\n",
       "      <td>9</td>\n",
       "      <td>0</td>\n",
       "      <td>Current</td>\n",
       "      <td>3/1/2018</td>\n",
       "      <td>Morning</td>\n",
       "      <td>0.0</td>\n",
       "    </tr>\n",
       "    <tr>\n",
       "      <th>1</th>\n",
       "      <td>1</td>\n",
       "      <td>1</td>\n",
       "      <td>PAYMENT</td>\n",
       "      <td>India</td>\n",
       "      <td>1864.28</td>\n",
       "      <td>C1666544295</td>\n",
       "      <td>21249.0</td>\n",
       "      <td>19384.72</td>\n",
       "      <td>M2044282225</td>\n",
       "      <td>0.0</td>\n",
       "      <td>0.0</td>\n",
       "      <td>10</td>\n",
       "      <td>0</td>\n",
       "      <td>Savings</td>\n",
       "      <td>5/1/2018</td>\n",
       "      <td>Morning</td>\n",
       "      <td>0.0</td>\n",
       "    </tr>\n",
       "    <tr>\n",
       "      <th>2</th>\n",
       "      <td>2</td>\n",
       "      <td>1</td>\n",
       "      <td>TRANSFER</td>\n",
       "      <td>India</td>\n",
       "      <td>181.00</td>\n",
       "      <td>C1305486145</td>\n",
       "      <td>181.0</td>\n",
       "      <td>0.00</td>\n",
       "      <td>C553264065</td>\n",
       "      <td>0.0</td>\n",
       "      <td>0.0</td>\n",
       "      <td>2</td>\n",
       "      <td>0</td>\n",
       "      <td>Current</td>\n",
       "      <td>7/1/2018</td>\n",
       "      <td>Morning</td>\n",
       "      <td>1.0</td>\n",
       "    </tr>\n",
       "    <tr>\n",
       "      <th>3</th>\n",
       "      <td>3</td>\n",
       "      <td>1</td>\n",
       "      <td>CASH_OUT</td>\n",
       "      <td>Australia</td>\n",
       "      <td>181.00</td>\n",
       "      <td>C840083671</td>\n",
       "      <td>181.0</td>\n",
       "      <td>0.00</td>\n",
       "      <td>C38997010</td>\n",
       "      <td>21182.0</td>\n",
       "      <td>0.0</td>\n",
       "      <td>1</td>\n",
       "      <td>0</td>\n",
       "      <td>Current</td>\n",
       "      <td>6/1/2018</td>\n",
       "      <td>Afternoon</td>\n",
       "      <td>1.0</td>\n",
       "    </tr>\n",
       "    <tr>\n",
       "      <th>4</th>\n",
       "      <td>4</td>\n",
       "      <td>1</td>\n",
       "      <td>PAYMENT</td>\n",
       "      <td>Australia</td>\n",
       "      <td>11668.14</td>\n",
       "      <td>C2048537720</td>\n",
       "      <td>41554.0</td>\n",
       "      <td>29885.86</td>\n",
       "      <td>M1230701703</td>\n",
       "      <td>0.0</td>\n",
       "      <td>0.0</td>\n",
       "      <td>17</td>\n",
       "      <td>0</td>\n",
       "      <td>Current</td>\n",
       "      <td>6/1/2018</td>\n",
       "      <td>Morning</td>\n",
       "      <td>0.0</td>\n",
       "    </tr>\n",
       "  </tbody>\n",
       "</table>\n",
       "</div>"
      ],
      "text/plain": [
       "   Unnamed: 0  step      type     branch    amount     nameOrig  \\\n",
       "0           0     1   PAYMENT  Indonesia   9839.64  C1231006815   \n",
       "1           1     1   PAYMENT      India   1864.28  C1666544295   \n",
       "2           2     1  TRANSFER      India    181.00  C1305486145   \n",
       "3           3     1  CASH_OUT  Australia    181.00   C840083671   \n",
       "4           4     1   PAYMENT  Australia  11668.14  C2048537720   \n",
       "\n",
       "   oldbalanceOrg  newbalanceOrig     nameDest  oldbalanceDest  newbalanceDest  \\\n",
       "0       170136.0       160296.36  M1979787155             0.0             0.0   \n",
       "1        21249.0        19384.72  M2044282225             0.0             0.0   \n",
       "2          181.0            0.00   C553264065             0.0             0.0   \n",
       "3          181.0            0.00    C38997010         21182.0             0.0   \n",
       "4        41554.0        29885.86  M1230701703             0.0             0.0   \n",
       "\n",
       "   unusuallogin  isFlaggedFraud Acct type Date of transaction Time of day  \\\n",
       "0             9               0   Current            3/1/2018     Morning   \n",
       "1            10               0   Savings            5/1/2018     Morning   \n",
       "2             2               0   Current            7/1/2018     Morning   \n",
       "3             1               0   Current            6/1/2018   Afternoon   \n",
       "4            17               0   Current            6/1/2018     Morning   \n",
       "\n",
       "   isFraud  \n",
       "0      0.0  \n",
       "1      0.0  \n",
       "2      1.0  \n",
       "3      1.0  \n",
       "4      0.0  "
      ]
     },
     "execution_count": 27,
     "metadata": {},
     "output_type": "execute_result"
    }
   ],
   "source": [
    "# Preview the Dataset\n",
    "df.head()"
   ]
  },
  {
   "cell_type": "code",
   "execution_count": 28,
   "metadata": {},
   "outputs": [
    {
     "data": {
      "text/plain": [
       "(10127, 17)"
      ]
     },
     "execution_count": 28,
     "metadata": {},
     "output_type": "execute_result"
    }
   ],
   "source": [
    "## Check Number of Rows and Columns\n",
    "df.shape"
   ]
  },
  {
   "cell_type": "code",
   "execution_count": 29,
   "metadata": {},
   "outputs": [],
   "source": [
    "# Drop Unnecessary Columns\n",
    "df_drop = [\"Unnamed: 0\",\"nameOrig\", \"nameDest\"]\n",
    "df = df.drop(columns=df_drop,errors=\"ignore\")"
   ]
  },
  {
   "cell_type": "markdown",
   "metadata": {},
   "source": [
    "#### 3) Check For Missing Values"
   ]
  },
  {
   "cell_type": "code",
   "execution_count": 30,
   "metadata": {},
   "outputs": [
    {
     "data": {
      "text/plain": [
       "step                    0\n",
       "type                    4\n",
       "branch                  0\n",
       "amount                  2\n",
       "oldbalanceOrg           2\n",
       "newbalanceOrig          0\n",
       "oldbalanceDest          1\n",
       "newbalanceDest          2\n",
       "unusuallogin            0\n",
       "isFlaggedFraud          0\n",
       "Acct type              10\n",
       "Date of transaction     7\n",
       "Time of day             2\n",
       "isFraud                 2\n",
       "dtype: int64"
      ]
     },
     "execution_count": 30,
     "metadata": {},
     "output_type": "execute_result"
    }
   ],
   "source": [
    "# Check Missing Values\n",
    "df.isna().sum()"
   ]
  },
  {
   "cell_type": "code",
   "execution_count": 31,
   "metadata": {},
   "outputs": [
    {
     "data": {
      "text/plain": [
       "step                   0\n",
       "type                   0\n",
       "branch                 0\n",
       "amount                 0\n",
       "oldbalanceOrg          0\n",
       "newbalanceOrig         0\n",
       "oldbalanceDest         0\n",
       "newbalanceDest         0\n",
       "unusuallogin           0\n",
       "isFlaggedFraud         0\n",
       "Acct type              0\n",
       "Date of transaction    0\n",
       "Time of day            0\n",
       "isFraud                0\n",
       "dtype: int64"
      ]
     },
     "execution_count": 31,
     "metadata": {},
     "output_type": "execute_result"
    }
   ],
   "source": [
    "# Handle Missing Values\n",
    "df = df.dropna()\n",
    "df.isna().sum()"
   ]
  },
  {
   "cell_type": "code",
   "execution_count": 32,
   "metadata": {},
   "outputs": [
    {
     "data": {
      "text/plain": [
       "np.int64(0)"
      ]
     },
     "execution_count": 32,
     "metadata": {},
     "output_type": "execute_result"
    }
   ],
   "source": [
    "# Check For Duplicates\n",
    "df.duplicated().sum()"
   ]
  },
  {
   "cell_type": "markdown",
   "metadata": {},
   "source": [
    "#### 4) Summary Statistics"
   ]
  },
  {
   "cell_type": "code",
   "execution_count": 33,
   "metadata": {},
   "outputs": [
    {
     "data": {
      "text/html": [
       "<div>\n",
       "<style scoped>\n",
       "    .dataframe tbody tr th:only-of-type {\n",
       "        vertical-align: middle;\n",
       "    }\n",
       "\n",
       "    .dataframe tbody tr th {\n",
       "        vertical-align: top;\n",
       "    }\n",
       "\n",
       "    .dataframe thead th {\n",
       "        text-align: right;\n",
       "    }\n",
       "</style>\n",
       "<table border=\"1\" class=\"dataframe\">\n",
       "  <thead>\n",
       "    <tr style=\"text-align: right;\">\n",
       "      <th></th>\n",
       "      <th>step</th>\n",
       "      <th>amount</th>\n",
       "      <th>oldbalanceOrg</th>\n",
       "      <th>newbalanceOrig</th>\n",
       "      <th>oldbalanceDest</th>\n",
       "      <th>newbalanceDest</th>\n",
       "      <th>unusuallogin</th>\n",
       "      <th>isFlaggedFraud</th>\n",
       "      <th>isFraud</th>\n",
       "    </tr>\n",
       "  </thead>\n",
       "  <tbody>\n",
       "    <tr>\n",
       "      <th>count</th>\n",
       "      <td>10098.000000</td>\n",
       "      <td>1.009800e+04</td>\n",
       "      <td>1.009800e+04</td>\n",
       "      <td>1.009800e+04</td>\n",
       "      <td>1.009800e+04</td>\n",
       "      <td>1.009800e+04</td>\n",
       "      <td>10098.000000</td>\n",
       "      <td>10098.0</td>\n",
       "      <td>10098.000000</td>\n",
       "    </tr>\n",
       "    <tr>\n",
       "      <th>mean</th>\n",
       "      <td>4.217766</td>\n",
       "      <td>1.049875e+05</td>\n",
       "      <td>8.858700e+05</td>\n",
       "      <td>9.068887e+05</td>\n",
       "      <td>9.346408e+05</td>\n",
       "      <td>1.109806e+06</td>\n",
       "      <td>10.515052</td>\n",
       "      <td>0.0</td>\n",
       "      <td>0.006734</td>\n",
       "    </tr>\n",
       "    <tr>\n",
       "      <th>std</th>\n",
       "      <td>2.482865</td>\n",
       "      <td>2.709399e+05</td>\n",
       "      <td>2.126951e+06</td>\n",
       "      <td>2.172574e+06</td>\n",
       "      <td>2.680375e+06</td>\n",
       "      <td>3.050709e+06</td>\n",
       "      <td>5.808882</td>\n",
       "      <td>0.0</td>\n",
       "      <td>0.081788</td>\n",
       "    </tr>\n",
       "    <tr>\n",
       "      <th>min</th>\n",
       "      <td>1.000000</td>\n",
       "      <td>2.390000e+00</td>\n",
       "      <td>0.000000e+00</td>\n",
       "      <td>0.000000e+00</td>\n",
       "      <td>0.000000e+00</td>\n",
       "      <td>0.000000e+00</td>\n",
       "      <td>0.000000</td>\n",
       "      <td>0.0</td>\n",
       "      <td>0.000000</td>\n",
       "    </tr>\n",
       "    <tr>\n",
       "      <th>25%</th>\n",
       "      <td>1.000000</td>\n",
       "      <td>4.393892e+03</td>\n",
       "      <td>1.339925e+02</td>\n",
       "      <td>0.000000e+00</td>\n",
       "      <td>0.000000e+00</td>\n",
       "      <td>0.000000e+00</td>\n",
       "      <td>6.000000</td>\n",
       "      <td>0.0</td>\n",
       "      <td>0.000000</td>\n",
       "    </tr>\n",
       "    <tr>\n",
       "      <th>50%</th>\n",
       "      <td>5.000000</td>\n",
       "      <td>1.280417e+04</td>\n",
       "      <td>2.137556e+04</td>\n",
       "      <td>1.025540e+04</td>\n",
       "      <td>0.000000e+00</td>\n",
       "      <td>0.000000e+00</td>\n",
       "      <td>10.000000</td>\n",
       "      <td>0.0</td>\n",
       "      <td>0.000000</td>\n",
       "    </tr>\n",
       "    <tr>\n",
       "      <th>75%</th>\n",
       "      <td>7.000000</td>\n",
       "      <td>1.143839e+05</td>\n",
       "      <td>1.726482e+05</td>\n",
       "      <td>1.713779e+05</td>\n",
       "      <td>2.819345e+05</td>\n",
       "      <td>2.523862e+05</td>\n",
       "      <td>16.000000</td>\n",
       "      <td>0.0</td>\n",
       "      <td>0.000000</td>\n",
       "    </tr>\n",
       "    <tr>\n",
       "      <th>max</th>\n",
       "      <td>7.000000</td>\n",
       "      <td>1.000000e+07</td>\n",
       "      <td>1.290000e+07</td>\n",
       "      <td>1.300000e+07</td>\n",
       "      <td>1.950000e+07</td>\n",
       "      <td>2.260000e+07</td>\n",
       "      <td>20.000000</td>\n",
       "      <td>0.0</td>\n",
       "      <td>1.000000</td>\n",
       "    </tr>\n",
       "  </tbody>\n",
       "</table>\n",
       "</div>"
      ],
      "text/plain": [
       "               step        amount  oldbalanceOrg  newbalanceOrig  \\\n",
       "count  10098.000000  1.009800e+04   1.009800e+04    1.009800e+04   \n",
       "mean       4.217766  1.049875e+05   8.858700e+05    9.068887e+05   \n",
       "std        2.482865  2.709399e+05   2.126951e+06    2.172574e+06   \n",
       "min        1.000000  2.390000e+00   0.000000e+00    0.000000e+00   \n",
       "25%        1.000000  4.393892e+03   1.339925e+02    0.000000e+00   \n",
       "50%        5.000000  1.280417e+04   2.137556e+04    1.025540e+04   \n",
       "75%        7.000000  1.143839e+05   1.726482e+05    1.713779e+05   \n",
       "max        7.000000  1.000000e+07   1.290000e+07    1.300000e+07   \n",
       "\n",
       "       oldbalanceDest  newbalanceDest  unusuallogin  isFlaggedFraud  \\\n",
       "count    1.009800e+04    1.009800e+04  10098.000000         10098.0   \n",
       "mean     9.346408e+05    1.109806e+06     10.515052             0.0   \n",
       "std      2.680375e+06    3.050709e+06      5.808882             0.0   \n",
       "min      0.000000e+00    0.000000e+00      0.000000             0.0   \n",
       "25%      0.000000e+00    0.000000e+00      6.000000             0.0   \n",
       "50%      0.000000e+00    0.000000e+00     10.000000             0.0   \n",
       "75%      2.819345e+05    2.523862e+05     16.000000             0.0   \n",
       "max      1.950000e+07    2.260000e+07     20.000000             0.0   \n",
       "\n",
       "            isFraud  \n",
       "count  10098.000000  \n",
       "mean       0.006734  \n",
       "std        0.081788  \n",
       "min        0.000000  \n",
       "25%        0.000000  \n",
       "50%        0.000000  \n",
       "75%        0.000000  \n",
       "max        1.000000  "
      ]
     },
     "execution_count": 33,
     "metadata": {},
     "output_type": "execute_result"
    }
   ],
   "source": [
    "df.describe()"
   ]
  },
  {
   "cell_type": "code",
   "execution_count": 34,
   "metadata": {},
   "outputs": [
    {
     "name": "stdout",
     "output_type": "stream",
     "text": [
      "<class 'pandas.core.frame.DataFrame'>\n",
      "Index: 10098 entries, 0 to 10126\n",
      "Data columns (total 14 columns):\n",
      " #   Column               Non-Null Count  Dtype  \n",
      "---  ------               --------------  -----  \n",
      " 0   step                 10098 non-null  int64  \n",
      " 1   type                 10098 non-null  object \n",
      " 2   branch               10098 non-null  object \n",
      " 3   amount               10098 non-null  float64\n",
      " 4   oldbalanceOrg        10098 non-null  float64\n",
      " 5   newbalanceOrig       10098 non-null  float64\n",
      " 6   oldbalanceDest       10098 non-null  float64\n",
      " 7   newbalanceDest       10098 non-null  float64\n",
      " 8   unusuallogin         10098 non-null  int64  \n",
      " 9   isFlaggedFraud       10098 non-null  int64  \n",
      " 10  Acct type            10098 non-null  object \n",
      " 11  Date of transaction  10098 non-null  object \n",
      " 12  Time of day          10098 non-null  object \n",
      " 13  isFraud              10098 non-null  float64\n",
      "dtypes: float64(6), int64(3), object(5)\n",
      "memory usage: 1.2+ MB\n"
     ]
    }
   ],
   "source": [
    "df.info()"
   ]
  },
  {
   "cell_type": "markdown",
   "metadata": {},
   "source": [
    "#### 5) Visualisations"
   ]
  },
  {
   "cell_type": "code",
   "execution_count": 35,
   "metadata": {},
   "outputs": [
    {
     "data": {
      "image/png": "[encoded data removed]",
      "text/plain": [
       "<Figure size 600x400 with 1 Axes>"
      ]
     },
     "metadata": {},
     "output_type": "display_data"
    }
   ],
   "source": [
    "# Plot fraud vs. non-fraud distribution\n",
    "plt.figure(figsize=(6,4))\n",
    "df['isFraud'].value_counts().plot(kind='bar', color=['green', 'red'])\n",
    "plt.title('Fraud vs. Non-Fraud Transactions')\n",
    "plt.xlabel('Transaction Type (0 = Legitimate, 1 = Fraud)')\n",
    "plt.ylabel('Count')\n",
    "plt.show()\n"
   ]
  },
  {
   "cell_type": "code",
   "execution_count": 36,
   "metadata": {},
   "outputs": [
    {
     "data": {
      "image/png": "[encoded data removed]",
      "text/plain": [
       "<Figure size 800x500 with 1 Axes>"
      ]
     },
     "metadata": {},
     "output_type": "display_data"
    }
   ],
   "source": [
    "# Plot transaction amount distribution\n",
    "plt.figure(figsize=(8,5))\n",
    "sns.boxplot(x='isFraud', y='amount', data=df, palette=\"coolwarm\")\n",
    "plt.ylim(0, df['amount'].quantile(0.99))  # Remove outliers for better visualization\n",
    "plt.title('Transaction Amount Distribution by Fraud Status')\n",
    "plt.xlabel('Fraud (0 = No, 1 = Yes)')\n",
    "plt.ylabel('Transaction Amount')\n",
    "plt.show()\n"
   ]
  },
  {
   "cell_type": "code",
   "execution_count": 37,
   "metadata": {},
   "outputs": [
    {
     "data": {
      "text/plain": [
       "isFraud\n",
       "0.0    10030\n",
       "1.0       68\n",
       "Name: count, dtype: int64"
      ]
     },
     "execution_count": 37,
     "metadata": {},
     "output_type": "execute_result"
    }
   ],
   "source": [
    "df['isFraud'].value_counts()"
   ]
  },
  {
   "cell_type": "markdown",
   "metadata": {},
   "source": [
    "Highly Imbalanced Dataset"
   ]
  },
  {
   "cell_type": "code",
   "execution_count": 38,
   "metadata": {},
   "outputs": [
    {
     "data": {
      "text/html": [
       "<div>\n",
       "<style scoped>\n",
       "    .dataframe tbody tr th:only-of-type {\n",
       "        vertical-align: middle;\n",
       "    }\n",
       "\n",
       "    .dataframe tbody tr th {\n",
       "        vertical-align: top;\n",
       "    }\n",
       "\n",
       "    .dataframe thead th {\n",
       "        text-align: right;\n",
       "    }\n",
       "</style>\n",
       "<table border=\"1\" class=\"dataframe\">\n",
       "  <thead>\n",
       "    <tr style=\"text-align: right;\">\n",
       "      <th></th>\n",
       "      <th>step</th>\n",
       "      <th>type</th>\n",
       "      <th>branch</th>\n",
       "      <th>amount</th>\n",
       "      <th>oldbalanceOrg</th>\n",
       "      <th>newbalanceOrig</th>\n",
       "      <th>oldbalanceDest</th>\n",
       "      <th>newbalanceDest</th>\n",
       "      <th>unusuallogin</th>\n",
       "      <th>isFlaggedFraud</th>\n",
       "      <th>Acct type</th>\n",
       "      <th>Date of transaction</th>\n",
       "      <th>Time of day</th>\n",
       "      <th>isFraud</th>\n",
       "    </tr>\n",
       "  </thead>\n",
       "  <tbody>\n",
       "    <tr>\n",
       "      <th>0</th>\n",
       "      <td>1</td>\n",
       "      <td>PAYMENT</td>\n",
       "      <td>Indonesia</td>\n",
       "      <td>9839.64</td>\n",
       "      <td>170136.0</td>\n",
       "      <td>160296.36</td>\n",
       "      <td>0.0</td>\n",
       "      <td>0.0</td>\n",
       "      <td>9</td>\n",
       "      <td>0</td>\n",
       "      <td>Current</td>\n",
       "      <td>3/1/2018</td>\n",
       "      <td>Morning</td>\n",
       "      <td>0</td>\n",
       "    </tr>\n",
       "    <tr>\n",
       "      <th>1</th>\n",
       "      <td>1</td>\n",
       "      <td>PAYMENT</td>\n",
       "      <td>India</td>\n",
       "      <td>1864.28</td>\n",
       "      <td>21249.0</td>\n",
       "      <td>19384.72</td>\n",
       "      <td>0.0</td>\n",
       "      <td>0.0</td>\n",
       "      <td>10</td>\n",
       "      <td>0</td>\n",
       "      <td>Savings</td>\n",
       "      <td>5/1/2018</td>\n",
       "      <td>Morning</td>\n",
       "      <td>0</td>\n",
       "    </tr>\n",
       "    <tr>\n",
       "      <th>2</th>\n",
       "      <td>1</td>\n",
       "      <td>TRANSFER</td>\n",
       "      <td>India</td>\n",
       "      <td>181.00</td>\n",
       "      <td>181.0</td>\n",
       "      <td>0.00</td>\n",
       "      <td>0.0</td>\n",
       "      <td>0.0</td>\n",
       "      <td>2</td>\n",
       "      <td>0</td>\n",
       "      <td>Current</td>\n",
       "      <td>7/1/2018</td>\n",
       "      <td>Morning</td>\n",
       "      <td>1</td>\n",
       "    </tr>\n",
       "    <tr>\n",
       "      <th>3</th>\n",
       "      <td>1</td>\n",
       "      <td>CASH_OUT</td>\n",
       "      <td>Australia</td>\n",
       "      <td>181.00</td>\n",
       "      <td>181.0</td>\n",
       "      <td>0.00</td>\n",
       "      <td>21182.0</td>\n",
       "      <td>0.0</td>\n",
       "      <td>1</td>\n",
       "      <td>0</td>\n",
       "      <td>Current</td>\n",
       "      <td>6/1/2018</td>\n",
       "      <td>Afternoon</td>\n",
       "      <td>1</td>\n",
       "    </tr>\n",
       "    <tr>\n",
       "      <th>4</th>\n",
       "      <td>1</td>\n",
       "      <td>PAYMENT</td>\n",
       "      <td>Australia</td>\n",
       "      <td>11668.14</td>\n",
       "      <td>41554.0</td>\n",
       "      <td>29885.86</td>\n",
       "      <td>0.0</td>\n",
       "      <td>0.0</td>\n",
       "      <td>17</td>\n",
       "      <td>0</td>\n",
       "      <td>Current</td>\n",
       "      <td>6/1/2018</td>\n",
       "      <td>Morning</td>\n",
       "      <td>0</td>\n",
       "    </tr>\n",
       "  </tbody>\n",
       "</table>\n",
       "</div>"
      ],
      "text/plain": [
       "   step      type     branch    amount  oldbalanceOrg  newbalanceOrig  \\\n",
       "0     1   PAYMENT  Indonesia   9839.64       170136.0       160296.36   \n",
       "1     1   PAYMENT      India   1864.28        21249.0        19384.72   \n",
       "2     1  TRANSFER      India    181.00          181.0            0.00   \n",
       "3     1  CASH_OUT  Australia    181.00          181.0            0.00   \n",
       "4     1   PAYMENT  Australia  11668.14        41554.0        29885.86   \n",
       "\n",
       "   oldbalanceDest  newbalanceDest  unusuallogin  isFlaggedFraud Acct type  \\\n",
       "0             0.0             0.0             9               0   Current   \n",
       "1             0.0             0.0            10               0   Savings   \n",
       "2             0.0             0.0             2               0   Current   \n",
       "3         21182.0             0.0             1               0   Current   \n",
       "4             0.0             0.0            17               0   Current   \n",
       "\n",
       "  Date of transaction Time of day  isFraud  \n",
       "0            3/1/2018     Morning        0  \n",
       "1            5/1/2018     Morning        0  \n",
       "2            7/1/2018     Morning        1  \n",
       "3            6/1/2018   Afternoon        1  \n",
       "4            6/1/2018     Morning        0  "
      ]
     },
     "execution_count": 38,
     "metadata": {},
     "output_type": "execute_result"
    }
   ],
   "source": [
    "mapping_dict ={\n",
    "    0.0:0,\n",
    "   1.0:1}\n",
    "df['isFraud'] = df['isFraud'].map(mapping_dict)\n",
    "df.head()"
   ]
  }
 ],
 "metadata": {
  "kernelspec": {
   "display_name": "Python 3",
   "language": "python",
   "name": "python3"
  },
  "language_info": {
   "codemirror_mode": {
    "name": "ipython",
    "version": 3
   },
   "file_extension": ".py",
   "mimetype": "text/x-python",
   "name": "python",
   "nbconvert_exporter": "python",
   "pygments_lexer": "ipython3",
   "version": "3.10.0"
  }
 },
 "nbformat": 4,
 "nbformat_minor": 2
}
